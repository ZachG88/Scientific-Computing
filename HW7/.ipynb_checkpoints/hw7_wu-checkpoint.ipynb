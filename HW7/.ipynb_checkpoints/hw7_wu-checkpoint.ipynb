{
 "cells": [
  {
   "cell_type": "markdown",
   "id": "b5986561",
   "metadata": {},
   "source": [
    "# Homework 7 writeup solutions\n",
    "\n",
    "## Name: Zach Gendreau"
   ]
  },
  {
   "cell_type": "markdown",
   "id": "438d031f",
   "metadata": {},
   "source": [
    "## Problem 1"
   ]
  },
  {
   "cell_type": "code",
   "execution_count": 2,
   "id": "b7f39c7b",
   "metadata": {},
   "outputs": [],
   "source": [
    "import numpy as np\n",
    "import matplotlib.pyplot as plt\n",
    "import time\n",
    "import scipy.integrate"
   ]
  },
  {
   "cell_type": "markdown",
   "id": "15be7863",
   "metadata": {},
   "source": [
    "### Part a - Timing RK45 and BDF"
   ]
  },
  {
   "cell_type": "code",
   "execution_count": 1,
   "id": "d75f0660",
   "metadata": {},
   "outputs": [],
   "source": [
    "# Define the 10 logarithmically spaced points\n",
    "\n",
    "# Loop over them\n",
    "\n",
    "# Find the time"
   ]
  },
  {
   "cell_type": "markdown",
   "id": "20790c26",
   "metadata": {},
   "source": [
    "### Part b - Create a loglog plot\n",
    "Make sure to use plot *markers* not lines for the data, and label the axes! "
   ]
  },
  {
   "cell_type": "code",
   "execution_count": null,
   "id": "e9fb8f3b",
   "metadata": {},
   "outputs": [],
   "source": []
  },
  {
   "cell_type": "markdown",
   "id": "a1458392",
   "metadata": {},
   "source": [
    "### Part c - Create a 2 panel figure.\n",
    "We have not yet done this in class, but it's about time we teach you because it's an important skill! \n",
    "\n",
    "Below I'll show how to do that plotting $y = x^2$ in the upper figure and $y = x^3$ in the lower figure."
   ]
  },
  {
   "cell_type": "code",
   "execution_count": 3,
   "id": "3e0ca706",
   "metadata": {},
   "outputs": [
    {
     "data": {
      "text/plain": [
       "[<matplotlib.lines.Line2D at 0x7fc160325dc0>]"
      ]
     },
     "execution_count": 3,
     "metadata": {},
     "output_type": "execute_result"
    },
    {
     "data": {
      "image/png": "[encoded data removed]",
      "text/plain": [
       "<Figure size 432x288 with 2 Axes>"
      ]
     },
     "metadata": {
      "needs_background": "light"
     },
     "output_type": "display_data"
    }
   ],
   "source": [
    "# You can delete this once you've figured it out,\n",
    "# I just want to give the example.\n",
    "x = np.linspace(-1, 1, 100)\n",
    "fig, ax = plt.subplots(2, 1, constrained_layout=True)\n",
    "# the (2, 1) corresponds to \"2 rows, 1 column\"\n",
    "ax[0].plot(x, x**2, 'b') \n",
    "# ax[0] means the 0th panel. \n",
    "ax[1].plot(x, x**3, 'r') # ax[1] means the 1st panel"
   ]
  },
  {
   "cell_type": "markdown",
   "id": "5beffa04",
   "metadata": {},
   "source": [
    "### Part d - Comment on what we see."
   ]
  },
  {
   "cell_type": "markdown",
   "id": "18a72f62",
   "metadata": {},
   "source": [
    "##### Part (i) - Compare the two methods\n",
    "\n",
    "##### Part (ii) - Time as q increases\n",
    "\n",
    "##### Part (iii) - What makes calculation slower for RK45?\n",
    "\n",
    "##### Part (iv) - Is this equation stiff? How do we know?"
   ]
  },
  {
   "cell_type": "markdown",
   "id": "5a7838d4",
   "metadata": {},
   "source": [
    "## Problem 2"
   ]
  },
  {
   "cell_type": "markdown",
   "id": "e957013b",
   "metadata": {},
   "source": [
    "### Part a - Ratio of points, RK45 to BDF."
   ]
  },
  {
   "cell_type": "markdown",
   "id": "22a89e78",
   "metadata": {},
   "source": [
    "#### Part b - Plot solution, x(t)"
   ]
  },
  {
   "cell_type": "code",
   "execution_count": null,
   "id": "f651bf32",
   "metadata": {},
   "outputs": [],
   "source": []
  },
  {
   "cell_type": "markdown",
   "id": "89d046c3",
   "metadata": {},
   "source": [
    "##### Part c - Plot x(t) vs. y(t) (y(t) on vertical axis)"
   ]
  },
  {
   "cell_type": "code",
   "execution_count": null,
   "id": "b4d2e461",
   "metadata": {},
   "outputs": [],
   "source": []
  },
  {
   "cell_type": "markdown",
   "id": "e0d27425",
   "metadata": {},
   "source": [
    "##### Part d - Discussion"
   ]
  },
  {
   "cell_type": "markdown",
   "id": "1fcf2c13",
   "metadata": {},
   "source": []
  }
 ],
 "metadata": {
  "kernelspec": {
   "display_name": "Python 3 (ipykernel)",
   "language": "python",
   "name": "python3"
  },
  "language_info": {
   "codemirror_mode": {
    "name": "ipython",
    "version": 3
   },
   "file_extension": ".py",
   "mimetype": "text/x-python",
   "name": "python",
   "nbconvert_exporter": "python",
   "pygments_lexer": "ipython3",
   "version": "3.9.13"
  }
 },
 "nbformat": 4,
 "nbformat_minor": 5
}
