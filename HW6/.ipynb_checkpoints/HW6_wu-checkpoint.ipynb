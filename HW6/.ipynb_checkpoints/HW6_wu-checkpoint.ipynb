{
 "cells": [
  {
   "cell_type": "markdown",
   "id": "b5986561",
   "metadata": {},
   "source": [
    "# Homework 6 writeup solutions\n",
    "\n",
    "## Name: Zach Gendreau "
   ]
  },
  {
   "cell_type": "markdown",
   "id": "438d031f",
   "metadata": {},
   "source": [
    "## Problem 1"
   ]
  },
  {
   "cell_type": "code",
   "execution_count": 1,
   "id": "b7f39c7b",
   "metadata": {},
   "outputs": [],
   "source": [
    "import numpy as np\n",
    "import matplotlib.pyplot as plt"
   ]
  },
  {
   "cell_type": "markdown",
   "id": "15be7863",
   "metadata": {},
   "source": [
    "### Part a - Create a meshgrid\n",
    "\n",
    "You don't need to go through all of these individual parts if you want, it's just to help you organize your work."
   ]
  },
  {
   "cell_type": "code",
   "execution_count": null,
   "id": "d75f0660",
   "metadata": {},
   "outputs": [],
   "source": [
    "# Define the theta values\n",
    "\n",
    "# Define the v values\n",
    "\n",
    "# Create the mesh"
   ]
  },
  {
   "cell_type": "markdown",
   "id": "20790c26",
   "metadata": {},
   "source": [
    "### Part b - Create a quiver plot"
   ]
  },
  {
   "cell_type": "code",
   "execution_count": null,
   "id": "e9fb8f3b",
   "metadata": {},
   "outputs": [],
   "source": []
  },
  {
   "cell_type": "markdown",
   "id": "a1458392",
   "metadata": {},
   "source": [
    "### Part c - Label the axes. Here you should have the complete quiver plot."
   ]
  },
  {
   "cell_type": "code",
   "execution_count": null,
   "id": "3e0ca706",
   "metadata": {},
   "outputs": [],
   "source": []
  },
  {
   "cell_type": "markdown",
   "id": "5beffa04",
   "metadata": {},
   "source": [
    "### Part d - Include trajectories."
   ]
  },
  {
   "cell_type": "code",
   "execution_count": null,
   "id": "193ab602",
   "metadata": {},
   "outputs": [],
   "source": []
  },
  {
   "cell_type": "markdown",
   "id": "746b29e7",
   "metadata": {},
   "source": [
    "### Part e - axis display"
   ]
  },
  {
   "cell_type": "code",
   "execution_count": null,
   "id": "17c765ed",
   "metadata": {},
   "outputs": [],
   "source": [
    "# If you name your axis \"ax\", then this \n",
    "# scales the axes: (uncomment both lines)\n",
    "#ax.set_xlim([-3*np.pi, 3*np.pi])\n",
    "#ax.set_ylim([-3, 3])"
   ]
  },
  {
   "cell_type": "markdown",
   "id": "248b6440",
   "metadata": {},
   "source": [
    "### Part f - Discussion"
   ]
  },
  {
   "cell_type": "markdown",
   "id": "0044b8b0",
   "metadata": {},
   "source": [
    "#### Part (i) - long-term behavior"
   ]
  },
  {
   "cell_type": "markdown",
   "id": "563298c9",
   "metadata": {},
   "source": [
    "#### Part (ii) - Comparing two solutions with $\\theta_0 = \\pi$. "
   ]
  },
  {
   "cell_type": "markdown",
   "id": "5a7838d4",
   "metadata": {},
   "source": [
    "#### Part (iii) - Comparing two solutions with equal and opposite $\\theta_0$ and $v_0$. "
   ]
  }
 ],
 "metadata": {
  "kernelspec": {
   "display_name": "Python 3 (ipykernel)",
   "language": "python",
   "name": "python3"
  },
  "language_info": {
   "codemirror_mode": {
    "name": "ipython",
    "version": 3
   },
   "file_extension": ".py",
   "mimetype": "text/x-python",
   "name": "python",
   "nbconvert_exporter": "python",
   "pygments_lexer": "ipython3",
   "version": "3.9.13"
  }
 },
 "nbformat": 4,
 "nbformat_minor": 5
}
