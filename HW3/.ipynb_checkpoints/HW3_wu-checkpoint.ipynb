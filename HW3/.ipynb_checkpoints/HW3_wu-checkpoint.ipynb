{
 "cells": [
  {
   "cell_type": "markdown",
   "id": "3826c3d0",
   "metadata": {},
   "source": [
    "# Homework 3 writeup solutions\n",
    "\n",
    "## Name: Zach Gendreau"
   ]
  },
  {
   "cell_type": "markdown",
   "id": "aca42ac2",
   "metadata": {},
   "source": [
    "## Problem 1"
   ]
  },
  {
   "cell_type": "markdown",
   "id": "8304a9b1",
   "metadata": {},
   "source": [
    "### Part a"
   ]
  },
  {
   "cell_type": "markdown",
   "id": "1ed166fc",
   "metadata": {},
   "source": [
    "### Part b"
   ]
  },
  {
   "cell_type": "markdown",
   "id": "3f142d9c",
   "metadata": {},
   "source": [
    "### Part c"
   ]
  },
  {
   "cell_type": "markdown",
   "id": "79bd3456",
   "metadata": {},
   "source": [
    "### Part d"
   ]
  },
  {
   "cell_type": "markdown",
   "id": "e584291d",
   "metadata": {},
   "source": [
    "## Problem 2"
   ]
  },
  {
   "cell_type": "markdown",
   "id": "e6ac8313",
   "metadata": {},
   "source": [
    "### Part a"
   ]
  },
  {
   "cell_type": "markdown",
   "id": "66d8365c",
   "metadata": {},
   "source": [
    "### Part b-f"
   ]
  },
  {
   "cell_type": "markdown",
   "id": "5926e94e",
   "metadata": {},
   "source": [
    "### Part g - discussion\n",
    "\n",
    "#### (i)\n",
    "\n",
    "#### (ii)"
   ]
  },
  {
   "cell_type": "code",
   "execution_count": null,
   "id": "41216562",
   "metadata": {},
   "outputs": [],
   "source": []
  }
 ],
 "metadata": {
  "kernelspec": {
   "display_name": "Python 3 (ipykernel)",
   "language": "python",
   "name": "python3"
  },
  "language_info": {
   "codemirror_mode": {
    "name": "ipython",
    "version": 3
   },
   "file_extension": ".py",
   "mimetype": "text/x-python",
   "name": "python",
   "nbconvert_exporter": "python",
   "pygments_lexer": "ipython3",
   "version": "3.9.13"
  }
 },
 "nbformat": 4,
 "nbformat_minor": 5
}
