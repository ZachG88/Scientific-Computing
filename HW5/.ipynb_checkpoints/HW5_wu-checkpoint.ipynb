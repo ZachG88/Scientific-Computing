{
 "cells": [
  {
   "cell_type": "markdown",
   "id": "b5986561",
   "metadata": {},
   "source": [
    "# Homework 5 writeup solutions\n",
    "\n",
    "## Name: YOUR NAME HERE"
   ]
  },
  {
   "cell_type": "markdown",
   "id": "438d031f",
   "metadata": {},
   "source": [
    "## Problem 1"
   ]
  },
  {
   "cell_type": "markdown",
   "id": "66c99daf",
   "metadata": {},
   "source": [
    "You are going to need to load in your data again. Do that in the cell below."
   ]
  },
  {
   "cell_type": "code",
   "execution_count": null,
   "id": "00207a1d",
   "metadata": {},
   "outputs": [],
   "source": []
  },
  {
   "cell_type": "markdown",
   "id": "15be7863",
   "metadata": {},
   "source": [
    "### Part a - plot"
   ]
  },
  {
   "cell_type": "code",
   "execution_count": null,
   "id": "d75f0660",
   "metadata": {},
   "outputs": [],
   "source": [
    "# Plot data here\n",
    "# plt.plot(... , '-k.', markersize=2)\n",
    "\n",
    "# Then plot exponential + sinusoidal fit - make sure you do this in the right order!\n",
    "\n",
    "# Then plot the exponential-only fit\n",
    "\n",
    "# label, legends, etc. below"
   ]
  },
  {
   "cell_type": "markdown",
   "id": "20790c26",
   "metadata": {},
   "source": [
    "### Part b - Discussion of error"
   ]
  },
  {
   "cell_type": "markdown",
   "id": "a1458392",
   "metadata": {},
   "source": [
    "### Part c - Prediction"
   ]
  },
  {
   "cell_type": "markdown",
   "id": "02566147",
   "metadata": {},
   "source": [
    "## Problem 2"
   ]
  },
  {
   "cell_type": "markdown",
   "id": "e65bff72",
   "metadata": {},
   "source": [
    "We'll need to load in the Salmon data again. Do that below."
   ]
  },
  {
   "cell_type": "code",
   "execution_count": null,
   "id": "6febfa8c",
   "metadata": {},
   "outputs": [],
   "source": []
  },
  {
   "cell_type": "markdown",
   "id": "1e9b45cc",
   "metadata": {},
   "source": [
    "### Part a - plot"
   ]
  },
  {
   "cell_type": "code",
   "execution_count": null,
   "id": "af806864",
   "metadata": {},
   "outputs": [],
   "source": []
  },
  {
   "cell_type": "markdown",
   "id": "2f84c07d",
   "metadata": {},
   "source": [
    "### Part b - Line of best fit discussion"
   ]
  },
  {
   "cell_type": "markdown",
   "id": "1c99518a",
   "metadata": {},
   "source": [
    "### Part c - Accuracy of predictions"
   ]
  },
  {
   "cell_type": "markdown",
   "id": "e7a86fbd",
   "metadata": {},
   "source": [
    "### Part d - Predicting Salmon populations in 2050"
   ]
  }
 ],
 "metadata": {
  "kernelspec": {
   "display_name": "Python 3 (ipykernel)",
   "language": "python",
   "name": "python3"
  },
  "language_info": {
   "codemirror_mode": {
    "name": "ipython",
    "version": 3
   },
   "file_extension": ".py",
   "mimetype": "text/x-python",
   "name": "python",
   "nbconvert_exporter": "python",
   "pygments_lexer": "ipython3",
   "version": "3.9.13"
  }
 },
 "nbformat": 4,
 "nbformat_minor": 5
}
