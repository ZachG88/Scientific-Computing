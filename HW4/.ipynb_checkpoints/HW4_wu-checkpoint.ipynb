{
 "cells": [
  {
   "cell_type": "markdown",
   "id": "3826c3d0",
   "metadata": {},
   "source": [
    "# Homework 4 writeup solutions\n",
    "\n",
    "## Name: Zach Gendreau"
   ]
  },
  {
   "cell_type": "markdown",
   "id": "aca42ac2",
   "metadata": {},
   "source": [
    "## Problem 1"
   ]
  },
  {
   "cell_type": "markdown",
   "id": "8304a9b1",
   "metadata": {},
   "source": [
    "### Part a"
   ]
  },
  {
   "cell_type": "code",
   "execution_count": null,
   "id": "6e5b2a05",
   "metadata": {},
   "outputs": [],
   "source": [
    "import numpy as np\n",
    "import matplotlib.pyplot as plt\n",
    "\n",
    "# First create x\n",
    "x = np.linspace(-7, 7, 40)\n",
    "# Now you create y\n",
    "\n",
    "# Once you have created them, you can uncomment and run the \n",
    "# following line of code.\n",
    "# X, Y = np.meshgrid(x, y)\n",
    "\n",
    "# Setup the figure\n",
    "fig = plt.figure() # Create a figure\n",
    "ax = plt.axes(projection='3d')  # Make it a \"3D\" figure\n",
    "# Then you do the rest."
   ]
  },
  {
   "cell_type": "markdown",
   "id": "1ed166fc",
   "metadata": {},
   "source": [
    "### Part b"
   ]
  },
  {
   "cell_type": "code",
   "execution_count": null,
   "id": "5efcba20",
   "metadata": {},
   "outputs": [],
   "source": [
    "# Setup a new figure\n",
    "fig2, ax2 = plt.figure() # Create a new figure and axes\n",
    "# Define the new x, y, and X, and Y from the meshgrid.\n",
    "\n",
    "# Once you have defined those then you can create the contour plot with...\n",
    "# ax2.contour(...) # Fill that in and remove the comment.\n"
   ]
  },
  {
   "cell_type": "markdown",
   "id": "3f142d9c",
   "metadata": {},
   "source": [
    "### Part c"
   ]
  },
  {
   "cell_type": "markdown",
   "id": "cc1c91bf",
   "metadata": {},
   "source": [
    "Based on the plot again, we can see 4 approximate locations of minima."
   ]
  },
  {
   "cell_type": "code",
   "execution_count": null,
   "id": "38081052",
   "metadata": {},
   "outputs": [],
   "source": [
    "# Define the 4 initial guesses. Uncomment and add to the code here. \n",
    "#min_1 = \n",
    "#min_2 = \n",
    "#min_3 = \n",
    "#min_4 = "
   ]
  },
  {
   "cell_type": "markdown",
   "id": "3733f084",
   "metadata": {},
   "source": [
    "Once we have found the minima, we can plot them."
   ]
  },
  {
   "cell_type": "code",
   "execution_count": null,
   "id": "240154a6",
   "metadata": {},
   "outputs": [],
   "source": [
    "# ax2.plot(...)\n",
    "\n",
    "# Then we need to type \"fig2\" for it to show up again\n",
    "fig2"
   ]
  },
  {
   "cell_type": "markdown",
   "id": "79bd3456",
   "metadata": {},
   "source": [
    "### Part d"
   ]
  },
  {
   "cell_type": "markdown",
   "id": "e584291d",
   "metadata": {},
   "source": [
    "## Problem 2"
   ]
  },
  {
   "cell_type": "markdown",
   "id": "e6ac8313",
   "metadata": {},
   "source": [
    "### Part a"
   ]
  },
  {
   "cell_type": "code",
   "execution_count": null,
   "id": "7ed0f97b",
   "metadata": {},
   "outputs": [],
   "source": [
    "import time # Import the timing algorithm, \n",
    "            # we'll see how this works in Week 5.\n",
    "tol = 1e-9 # Set the tolerance - note that it changes\n",
    "# Now run gradient descent!\n"
   ]
  },
  {
   "cell_type": "markdown",
   "id": "66d8365c",
   "metadata": {},
   "source": [
    "### Part b-d"
   ]
  },
  {
   "cell_type": "code",
   "execution_count": null,
   "id": "2c7f3331",
   "metadata": {},
   "outputs": [],
   "source": []
  },
  {
   "cell_type": "markdown",
   "id": "65455851",
   "metadata": {},
   "source": [
    "### Part e - the results\n",
    "\n",
    " |             | Number Iterations | Time | Converged (Yes/No) |\n",
    " |---          | ---               | ---  |   ---              |\n",
    " |tstep = 0.01 | Fill in here      | here |  fill in here.     |\n",
    " |tstep = 0.02 |                   |      |                    |\n",
    " |tstep = 0.025|                   |      |                    |\n",
    " |`fminbound`  |                   |      |                    |\n",
    " "
   ]
  },
  {
   "cell_type": "markdown",
   "id": "5926e94e",
   "metadata": {},
   "source": [
    "### Part f - discussion\n",
    "\n",
    "- I found that the Gradient descent algorithm....\n",
    "\n",
    "- I found that Gradient Descent converged fastest with...\n",
    "\n",
    "- I found that Gradient Descent converged with the fewest iterations with...\n",
    "\n",
    "- \n",
    "\n",
    "- **Optional:**"
   ]
  }
 ],
 "metadata": {
  "kernelspec": {
   "display_name": "Python 3 (ipykernel)",
   "language": "python",
   "name": "python3"
  },
  "language_info": {
   "codemirror_mode": {
    "name": "ipython",
    "version": 3
   },
   "file_extension": ".py",
   "mimetype": "text/x-python",
   "name": "python",
   "nbconvert_exporter": "python",
   "pygments_lexer": "ipython3",
   "version": "3.9.13"
  }
 },
 "nbformat": 4,
 "nbformat_minor": 5
}
