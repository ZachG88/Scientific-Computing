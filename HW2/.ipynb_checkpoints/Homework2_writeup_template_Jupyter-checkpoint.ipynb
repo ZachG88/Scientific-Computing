{
 "cells": [
  {
   "cell_type": "markdown",
   "id": "3826c3d0",
   "metadata": {},
   "source": [
    "# Homework 2 writeup \n",
    "\n",
    "## Name: Zach Gendreau\n",
    "## Section: B"
   ]
  },
  {
   "cell_type": "markdown",
   "id": "aca42ac2",
   "metadata": {},
   "source": [
    "## Problem 1\n",
    "(Make sure your code is somewhere)"
   ]
  },
  {
   "cell_type": "markdown",
   "id": "8304a9b1",
   "metadata": {},
   "source": [
    "### Part a"
   ]
  },
  {
   "cell_type": "markdown",
   "id": "14edfa7b",
   "metadata": {},
   "source": [
    "In Problem 2 of the coding portion of the homework, I found the following values for $x_1, x_2, x_3,$ and $x_4$. \n",
    "\n",
    "| $x_1$ | $x_2$ | $x_3$ | $x_4$ |\n",
    "| ----- | ----- | ----- | ----- |\n",
    "| answer1 | answer2 |  answer3 | answer4 |"
   ]
  },
  {
   "cell_type": "markdown",
   "id": "1ed166fc",
   "metadata": {},
   "source": [
    "### Part b"
   ]
  },
  {
   "cell_type": "markdown",
   "id": "3f142d9c",
   "metadata": {},
   "source": [
    "### Part c"
   ]
  },
  {
   "cell_type": "markdown",
   "id": "e584291d",
   "metadata": {},
   "source": [
    "## Problem 2"
   ]
  },
  {
   "cell_type": "code",
   "execution_count": null,
   "id": "5d97f375",
   "metadata": {},
   "outputs": [],
   "source": []
  }
 ],
 "metadata": {
  "kernelspec": {
   "display_name": "Python 3 (ipykernel)",
   "language": "python",
   "name": "python3"
  },
  "language_info": {
   "codemirror_mode": {
    "name": "ipython",
    "version": 3
   },
   "file_extension": ".py",
   "mimetype": "text/x-python",
   "name": "python",
   "nbconvert_exporter": "python",
   "pygments_lexer": "ipython3",
   "version": "3.9.13"
  }
 },
 "nbformat": 4,
 "nbformat_minor": 5
}
